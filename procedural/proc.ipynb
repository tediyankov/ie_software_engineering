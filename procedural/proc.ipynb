{
 "cells": [
  {
   "cell_type": "markdown",
   "id": "d6b9f396",
   "metadata": {},
   "source": [
    "# Procedural Programming\n",
    "## Variables \n",
    "### Sorting out references"
   ]
  },
  {
   "cell_type": "code",
   "execution_count": 1,
   "id": "8933912d",
   "metadata": {},
   "outputs": [
    {
     "name": "stdout",
     "output_type": "stream",
     "text": [
      "2 1\n"
     ]
    }
   ],
   "source": [
    "first, second = 1, 2\n",
    "third, fourth = second, first\n",
    "print(third, fourth)"
   ]
  },
  {
   "cell_type": "markdown",
   "id": "156491ec",
   "metadata": {},
   "source": [
    "## Containers\n",
    "### Slicing things from the end"
   ]
  },
  {
   "cell_type": "code",
   "execution_count": 2,
   "id": "068abc9c",
   "metadata": {},
   "outputs": [
    {
     "name": "stdout",
     "output_type": "stream",
     "text": [
      "Observation date: 02-Feb-2013\n",
      "[['fluorine', 'F'], ['chlorine', 'Cl'], ['bromine', 'Br'], ['iodine', 'I'], ['astatine', 'At']]\n"
     ]
    }
   ],
   "source": [
    "string_for_slicing = \"Observation date: 02-Feb-2013\"\n",
    "list_for_slicing = [[\"fluorine\", \"F\"],\n",
    "                    [\"chlorine\", \"Cl\"],\n",
    "                    [\"bromine\", \"Br\"],\n",
    "                    [\"iodine\", \"I\"],\n",
    "                    [\"astatine\", \"At\"]]\n",
    "\n",
    "print(string_for_slicing)\n",
    "print(list_for_slicing)"
   ]
  },
  {
   "cell_type": "code",
   "execution_count": 6,
   "id": "6fd81955",
   "metadata": {},
   "outputs": [
    {
     "name": "stdout",
     "output_type": "stream",
     "text": [
      "2013\n",
      "[['chlorine', 'Cl'], ['bromine', 'Br'], ['iodine', 'I'], ['astatine', 'At']]\n"
     ]
    }
   ],
   "source": [
    "print (string_for_slicing[-4:])\n",
    "print(list_for_slicing[1:5])"
   ]
  },
  {
   "cell_type": "markdown",
   "id": "01d4d8f1",
   "metadata": {},
   "source": [
    "## Functions\n",
    "### Combining strings"
   ]
  },
  {
   "cell_type": "code",
   "execution_count": null,
   "id": "38cd7830",
   "metadata": {},
   "outputs": [],
   "source": [
    "def fence (str1, str2):\n",
    "    return str1 + str2\n",
    "\n",
    "print(fence(\"name\",\"*\"))"
   ]
  },
  {
   "cell_type": "code",
   "execution_count": 10,
   "id": "664b23e0",
   "metadata": {},
   "outputs": [
    {
     "name": "stdout",
     "output_type": "stream",
     "text": [
      "HelloWorld!\n",
      "HelloPython!\n",
      "Hi, JavaScript!\n",
      "JavaScriptHi, !\n",
      "WorldHello, !\n",
      "Hello, World!\n"
     ]
    }
   ],
   "source": [
    "def say_hello(greeting = 'Hello', name = 'World'):\n",
    "    return greeting + name + '!'\n",
    "\n",
    "print(say_hello())\n",
    "print (say_hello(name='Python'))\n",
    "print (say_hello(greeting='Hi, ', name='JavaScript'))\n",
    "print (say_hello(name='Hi, ', greeting='JavaScript'))\n",
    "print (say_hello('World', 'Hello, '))\n",
    "print (say_hello('Hello, ', 'World'))"
   ]
  },
  {
   "cell_type": "markdown",
   "id": "8c4268fa",
   "metadata": {},
   "source": [
    "### managing academics"
   ]
  },
  {
   "cell_type": "code",
   "execution_count": 12,
   "id": "84778a86",
   "metadata": {},
   "outputs": [],
   "source": [
    "# structure\n",
    "academics = [\n",
    "    {\n",
    "        'name': 'Alice',\n",
    "        'papers': [\n",
    "            {\n",
    "                'title': 'My science paper',\n",
    "                'date': 2015\n",
    "            },\n",
    "            {\n",
    "                'title': 'My other science paper',\n",
    "                'date': 2017\n",
    "            }\n",
    "        ]\n",
    "    },\n",
    "    {\n",
    "        'name': 'Bob',\n",
    "        'papers': [\n",
    "            {\n",
    "                'title': 'Bob writes about science',\n",
    "                'date': 2018\n",
    "            }\n",
    "        ]\n",
    "    }\n",
    "]\n",
    "\n",
    "# adding new papers\n",
    "def write_paper(academics, name, title, date):\n",
    "    paper = {\n",
    "        'title': title,\n",
    "        'date': date\n",
    "    }\n",
    "\n",
    "    for academic in academics:\n",
    "        if academic['name'] == name:\n",
    "            academic['papers'].append(paper)\n",
    "            break"
   ]
  },
  {
   "cell_type": "markdown",
   "id": "bd549281",
   "metadata": {},
   "source": [
    "### passing lists to functions"
   ]
  },
  {
   "cell_type": "code",
   "execution_count": 11,
   "id": "e09e6adf",
   "metadata": {},
   "outputs": [
    {
     "name": "stdout",
     "output_type": "stream",
     "text": [
      "[1, 2, 3, 'again']\n",
      "['this', 'is', 'a', 'list', 'appended']\n"
     ]
    }
   ],
   "source": [
    "def append_to_list(l):\n",
    "    l.append('appended')\n",
    "    l = [1, 2, 3]\n",
    "    l.append('again')\n",
    "    return l\n",
    "\n",
    "a_list = ['this', 'is', 'a', 'list']\n",
    "\n",
    "print(append_to_list(a_list))\n",
    "print(a_list)"
   ]
  },
  {
   "cell_type": "markdown",
   "id": "0104fbb4",
   "metadata": {},
   "source": [
    "- The reason for this behaviour is that lists are mutable so when we pass one in to a function any modifications are made to the actual list as it exist in memory. \n",
    "- Using = to assign a new value creates a new list in memory (it does not modify the existing list) and assigns it to the variable / name l. \n",
    "- Any changes made to l after this are changes to the new list, so do not affect the previous list. \n",
    "- The original list still exists, but l no longer points to it. \n",
    "- Only the variable name a_list still points to the original.\n",
    "- For this reason it can be useful to think of the = sign as binding a value to a name."
   ]
  },
  {
   "cell_type": "code",
   "execution_count": 15,
   "id": "3f9a9793",
   "metadata": {},
   "outputs": [
    {
     "name": "stdout",
     "output_type": "stream",
     "text": [
      "3\n"
     ]
    }
   ],
   "source": [
    "def count_papers (academics): \n",
    "\n",
    "    total = 0\n",
    "    for academic in academics:\n",
    "        total += len(academic['papers'])\n",
    "    return total\n",
    "\n",
    "print(count_papers(academics))"
   ]
  },
  {
   "cell_type": "code",
   "execution_count": 21,
   "id": "5fb9b52c",
   "metadata": {},
   "outputs": [
    {
     "name": "stdout",
     "output_type": "stream",
     "text": [
      "1\n"
     ]
    }
   ],
   "source": [
    "print (len(academics[1]['papers']))"
   ]
  },
  {
   "cell_type": "code",
   "execution_count": 23,
   "id": "e1c5bd6a",
   "metadata": {},
   "outputs": [
    {
     "name": "stdout",
     "output_type": "stream",
     "text": [
      "3\n"
     ]
    }
   ],
   "source": [
    "def count_papers (academics): \n",
    "    total = 0  \n",
    "    for i in range(len(academics)): \n",
    "       total += len(academics[i]['papers'])\n",
    "    return total\n",
    "print(count_papers(academics))"
   ]
  },
  {
   "cell_type": "code",
   "execution_count": 24,
   "id": "1cef7e26",
   "metadata": {},
   "outputs": [
    {
     "name": "stdout",
     "output_type": "stream",
     "text": [
      "['My science paper', 'My other science paper', 'Bob writes about science']\n"
     ]
    }
   ],
   "source": [
    "def list_papers (academics): \n",
    "    titles = []\n",
    "    for academic in academics: \n",
    "        for paper in academic['papers']:\n",
    "            titles.append (paper['title'])\n",
    "    return titles\n",
    "print(list_papers(academics))"
   ]
  },
  {
   "cell_type": "code",
   "execution_count": 26,
   "id": "7d1b0a63",
   "metadata": {},
   "outputs": [
    {
     "name": "stdout",
     "output_type": "stream",
     "text": [
      "[{'title': 'My science paper', 'date': 2015}, {'title': 'My other science paper', 'date': 2017}, {'title': 'Bob writes about science', 'date': 2018}]\n"
     ]
    }
   ],
   "source": [
    "def list_papers(academics):\n",
    "    papers = []\n",
    "\n",
    "    for academic in academics:\n",
    "        papers = papers + academic['papers']\n",
    "\n",
    "    return papers\n",
    "print(list_papers(academics))"
   ]
  },
  {
   "cell_type": "markdown",
   "id": "f4a057c9",
   "metadata": {},
   "source": [
    "## Arrays"
   ]
  },
  {
   "cell_type": "code",
   "execution_count": 28,
   "id": "899bd821",
   "metadata": {},
   "outputs": [],
   "source": [
    "import numpy as np"
   ]
  },
  {
   "cell_type": "code",
   "execution_count": 33,
   "id": "9d3acb0d",
   "metadata": {},
   "outputs": [
    {
     "data": {
      "text/plain": [
       "array([0. , 0.5, 1. , 1.5, 2. ])"
      ]
     },
     "execution_count": 33,
     "metadata": {},
     "output_type": "execute_result"
    }
   ],
   "source": [
    "my_array = np.array(range(5))\n",
    "my_array / 2"
   ]
  },
  {
   "cell_type": "markdown",
   "id": "aa2a1069",
   "metadata": {},
   "source": [
    "### inflamation case study"
   ]
  },
  {
   "cell_type": "code",
   "execution_count": 39,
   "id": "e2e74e2c",
   "metadata": {},
   "outputs": [
    {
     "data": {
      "text/plain": [
       "array([[0., 0., 1., ..., 3., 0., 0.],\n",
       "       [0., 1., 2., ..., 1., 0., 1.],\n",
       "       [0., 1., 1., ..., 2., 1., 1.],\n",
       "       ...,\n",
       "       [0., 1., 1., ..., 1., 1., 1.],\n",
       "       [0., 0., 0., ..., 0., 2., 0.],\n",
       "       [0., 0., 1., ..., 1., 1., 0.]])"
      ]
     },
     "execution_count": 39,
     "metadata": {},
     "output_type": "execute_result"
    }
   ],
   "source": [
    "# loading data\n",
    "data = np.loadtxt(fname='inflammation/data/inflammation-01.csv', delimiter=',')\n",
    "data"
   ]
  },
  {
   "cell_type": "code",
   "execution_count": null,
   "id": "0075058c",
   "metadata": {},
   "outputs": [
    {
     "data": {
      "text/plain": [
       "(60, 40)"
      ]
     },
     "execution_count": 40,
     "metadata": {},
     "output_type": "execute_result"
    }
   ],
   "source": [
    "data.shape # 60 rows, 40 columns"
   ]
  },
  {
   "cell_type": "code",
   "execution_count": null,
   "id": "74fd2eb6",
   "metadata": {},
   "outputs": [
    {
     "data": {
      "text/plain": [
       "array([[0., 0., 1., 3., 1., 2., 4., 7., 8., 3.],\n",
       "       [0., 1., 2., 1., 2., 1., 3., 2., 2., 6.],\n",
       "       [0., 1., 1., 3., 3., 2., 6., 2., 5., 9.],\n",
       "       [0., 0., 2., 0., 4., 2., 2., 1., 6., 7.]])"
      ]
     },
     "execution_count": 43,
     "metadata": {},
     "output_type": "execute_result"
    }
   ],
   "source": [
    "# accessing specific values\n",
    "data[0,0] # first row, first column\n",
    "data[0:4,0] # first four rows, first column\n",
    "data[30,20] # middle\n",
    "data[0:4, 0:10] "
   ]
  },
  {
   "cell_type": "code",
   "execution_count": 44,
   "id": "4da14cef",
   "metadata": {},
   "outputs": [
    {
     "data": {
      "text/plain": [
       "array([0, 1, 2, 3, 4])"
      ]
     },
     "execution_count": 44,
     "metadata": {},
     "output_type": "execute_result"
    }
   ],
   "source": [
    "x = np.arange(5)\n",
    "y = np.copy(x)\n",
    "y[2] = 0\n",
    "x\n"
   ]
  },
  {
   "cell_type": "code",
   "execution_count": 46,
   "id": "c984cb30",
   "metadata": {},
   "outputs": [
    {
     "name": "stdout",
     "output_type": "stream",
     "text": [
      "[0 1 0 3 4]\n"
     ]
    }
   ],
   "source": [
    "x = np.arange(5)\n",
    "z = x \n",
    "z[2] = 0\n",
    "print(x)"
   ]
  },
  {
   "cell_type": "code",
   "execution_count": 47,
   "id": "7b8e330f",
   "metadata": {},
   "outputs": [
    {
     "data": {
      "text/plain": [
       "numpy.ndarray"
      ]
     },
     "execution_count": 47,
     "metadata": {},
     "output_type": "execute_result"
    }
   ],
   "source": [
    "type(z)"
   ]
  },
  {
   "cell_type": "code",
   "execution_count": 48,
   "id": "4c25fd61",
   "metadata": {},
   "outputs": [
    {
     "name": "stdout",
     "output_type": "stream",
     "text": [
      "A = \n",
      "[[1 2 3]\n",
      " [4 5 6]\n",
      " [7 8 9]]\n",
      "B = \n",
      "[[1 2 3 1 2 3]\n",
      " [4 5 6 4 5 6]\n",
      " [7 8 9 7 8 9]]\n",
      "C = \n",
      "[[1 2 3]\n",
      " [4 5 6]\n",
      " [7 8 9]\n",
      " [1 2 3]\n",
      " [4 5 6]\n",
      " [7 8 9]]\n"
     ]
    }
   ],
   "source": [
    "A = np.array([[1,2,3], [4,5,6], [7,8,9]])\n",
    "print('A = ')\n",
    "print(A)\n",
    "\n",
    "B = np.hstack([A, A])\n",
    "print('B = ')\n",
    "print(B)\n",
    "\n",
    "C = np.vstack([A, A])\n",
    "print('C = ')\n",
    "print(C)"
   ]
  },
  {
   "cell_type": "code",
   "execution_count": 51,
   "id": "29700b57",
   "metadata": {},
   "outputs": [
    {
     "name": "stdout",
     "output_type": "stream",
     "text": [
      "(2, 60)\n",
      "[[0. 0. 0. 0. 0. 0. 0. 0. 0. 0. 0. 0. 0. 0. 0. 0. 0. 0. 0. 0. 0. 0. 0. 0.\n",
      "  0. 0. 0. 0. 0. 0. 0. 0. 0. 0. 0. 0. 0. 0. 0. 0. 0. 0. 0. 0. 0. 0. 0. 0.\n",
      "  0. 0. 0. 0. 0. 0. 0. 0. 0. 0. 0. 0.]\n",
      " [0. 1. 1. 1. 1. 1. 1. 1. 0. 0. 1. 1. 1. 0. 0. 0. 1. 0. 0. 1. 0. 0. 0. 0.\n",
      "  1. 0. 1. 1. 0. 1. 1. 0. 1. 1. 1. 0. 1. 0. 1. 1. 1. 0. 0. 1. 1. 0. 0. 1.\n",
      "  0. 1. 0. 0. 1. 1. 1. 1. 1. 1. 0. 0.]]\n"
     ]
    }
   ],
   "source": [
    "# creating copy of data array\n",
    "data_for_slicing = data.copy()\n",
    "\n",
    "# slice first and last col of data\n",
    "first = data_for_slicing[:,0]\n",
    "last = data_for_slicing[:,-1]\n",
    "\n",
    "# stack into 60x2 array\n",
    "stacked = np.vstack([first, last])\n",
    "print (stacked.shape)\n",
    "print(stacked)"
   ]
  }
 ],
 "metadata": {
  "kernelspec": {
   "display_name": "base",
   "language": "python",
   "name": "python3"
  },
  "language_info": {
   "codemirror_mode": {
    "name": "ipython",
    "version": 3
   },
   "file_extension": ".py",
   "mimetype": "text/x-python",
   "name": "python",
   "nbconvert_exporter": "python",
   "pygments_lexer": "ipython3",
   "version": "3.11.7"
  }
 },
 "nbformat": 4,
 "nbformat_minor": 5
}
