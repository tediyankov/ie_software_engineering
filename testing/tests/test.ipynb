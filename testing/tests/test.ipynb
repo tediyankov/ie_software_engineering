{
 "cells": [
  {
   "cell_type": "code",
   "execution_count": 7,
   "id": "64a8ec21",
   "metadata": {},
   "outputs": [],
   "source": [
    "import sys\n",
    "import os\n",
    "sys.path.append(os.path.dirname(os.getcwd()))\n",
    "from inflammation.classes import Patient"
   ]
  }
 ],
 "metadata": {
  "kernelspec": {
   "display_name": "inflammation_env",
   "language": "python",
   "name": "python3"
  },
  "language_info": {
   "codemirror_mode": {
    "name": "ipython",
    "version": 3
   },
   "file_extension": ".py",
   "mimetype": "text/x-python",
   "name": "python",
   "nbconvert_exporter": "python",
   "pygments_lexer": "ipython3",
   "version": "3.11.7"
  }
 },
 "nbformat": 4,
 "nbformat_minor": 5
}
