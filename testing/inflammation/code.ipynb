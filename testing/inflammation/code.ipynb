{
 "cells": [
  {
   "cell_type": "code",
   "execution_count": 1,
   "id": "9b9d6399",
   "metadata": {},
   "outputs": [],
   "source": [
    "from classes import Patient, Trial"
   ]
  },
  {
   "cell_type": "code",
   "execution_count": 2,
   "id": "38dd4690",
   "metadata": {},
   "outputs": [
    {
     "ename": "NameError",
     "evalue": "name 'np' is not defined",
     "output_type": "error",
     "traceback": [
      "\u001b[31m---------------------------------------------------------------------------\u001b[39m",
      "\u001b[31mNameError\u001b[39m                                 Traceback (most recent call last)",
      "\u001b[36mCell\u001b[39m\u001b[36m \u001b[39m\u001b[32mIn[2]\u001b[39m\u001b[32m, line 2\u001b[39m\n\u001b[32m      1\u001b[39m filename = \u001b[33m\"\u001b[39m\u001b[33mdata/inflammation-01.csv\u001b[39m\u001b[33m\"\u001b[39m\n\u001b[32m----> \u001b[39m\u001b[32m2\u001b[39m data = \u001b[43mnp\u001b[49m.loadtxt(fname=filename, delimiter=\u001b[33m'\u001b[39m\u001b[33m,\u001b[39m\u001b[33m'\u001b[39m)\n\u001b[32m      3\u001b[39m row = data[\u001b[32m0\u001b[39m, :] \u001b[38;5;66;03m# The first row of the 2D data array\u001b[39;00m\n\u001b[32m      4\u001b[39m patient_0 = Patient(\u001b[32m0\u001b[39m, row) \u001b[38;5;66;03m# Create a Patient with id 0\u001b[39;00m\n",
      "\u001b[31mNameError\u001b[39m: name 'np' is not defined"
     ]
    }
   ],
   "source": [
    "filename = \"data/inflammation-01.csv\"\n",
    "data = np.loadtxt(fname=filename, delimiter=',')\n",
    "row = data[0, :] # The first row of the 2D data array\n",
    "patient_0 = Patient(0, row) # Create a Patient with id 0\n",
    "trail_group_01 = Trial(filename = filename, id = \"Group01\")\n",
    "patient_0 = trail_group_01.get_patient(0) # Create a Patient with id 0"
   ]
  }
 ],
 "metadata": {
  "kernelspec": {
   "display_name": "inflammation_env",
   "language": "python",
   "name": "python3"
  },
  "language_info": {
   "codemirror_mode": {
    "name": "ipython",
    "version": 3
   },
   "file_extension": ".py",
   "mimetype": "text/x-python",
   "name": "python",
   "nbconvert_exporter": "python",
   "pygments_lexer": "ipython3",
   "version": "3.11.7"
  }
 },
 "nbformat": 4,
 "nbformat_minor": 5
}
