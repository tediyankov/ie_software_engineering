{
 "cells": [
  {
   "cell_type": "markdown",
   "id": "3dec63c4",
   "metadata": {},
   "source": [
    "### Structuring Data"
   ]
  },
  {
   "cell_type": "code",
   "execution_count": 7,
   "id": "96906a1e",
   "metadata": {},
   "outputs": [],
   "source": [
    "## imports\n",
    "import numpy as np\n",
    "\n",
    "## data\n",
    "data = np.array([[1., 2., 3.],\n",
    "                 [4., 5., 6.]]) \n",
    "\n",
    "# names\n",
    "names = ['Alice', 'Bob']\n",
    "\n",
    "## function to assign names to each row of our data\n",
    "def attach_names (data, names):\n",
    "\n",
    "    # ensuring lengths match\n",
    "    assert len(data) == len(names)\n",
    "\n",
    "    # empty data object\n",
    "    named_data = []\n",
    "\n",
    "    # appending names to each row\n",
    "    for data_row, name in zip(data, names):\n",
    "        person_dict = {\n",
    "            'name': name,\n",
    "            'data': data_row.tolist()\n",
    "        }\n",
    "        named_data.append(person_dict)\n",
    "\n",
    "    return named_data"
   ]
  },
  {
   "cell_type": "code",
   "execution_count": 8,
   "id": "881b5c69",
   "metadata": {},
   "outputs": [
    {
     "name": "stdout",
     "output_type": "stream",
     "text": [
      "[{'name': 'Alice', 'data': [1.0, 2.0, 3.0]}, {'name': 'Bob', 'data': [4.0, 5.0, 6.0]}]\n"
     ]
    }
   ],
   "source": [
    "output = attach_names(data, ['Alice', 'Bob'])\n",
    "print(output)"
   ]
  },
  {
   "cell_type": "code",
   "execution_count": 11,
   "id": "5d9b563c",
   "metadata": {},
   "outputs": [
    {
     "name": "stdout",
     "output_type": "stream",
     "text": [
      "Alice\n"
     ]
    }
   ],
   "source": [
    "class Patient: \n",
    "    def __init__(self, name):\n",
    "        self.name = name\n",
    "        self.observations = []\n",
    "\n",
    "alice = Patient('Alice')\n",
    "print(alice.name)"
   ]
  },
  {
   "cell_type": "code",
   "execution_count": 15,
   "id": "1522d498",
   "metadata": {},
   "outputs": [
    {
     "name": "stdout",
     "output_type": "stream",
     "text": [
      "A Book by Me\n"
     ]
    }
   ],
   "source": [
    "# defining book class\n",
    "class Book:\n",
    "    def __init__ (self, title, author):\n",
    "        self.title = title\n",
    "        self.author = author\n",
    "    def __str__ (self): \n",
    "        return (f'{self.title} by {self.author}')\n",
    "book = Book('A Book', 'Me')\n",
    "print(book)"
   ]
  },
  {
   "cell_type": "code",
   "execution_count": 19,
   "id": "f13b0955",
   "metadata": {},
   "outputs": [
    {
     "name": "stdout",
     "output_type": "stream",
     "text": [
      "Dr. Smith (caring for 2 patients: Alice, Bob)\n",
      "Alice's first observation: 4.3\n",
      "Bob's first observation: 3.8\n"
     ]
    }
   ],
   "source": [
    "class Observation:\n",
    "    def __init__(self, day, value):\n",
    "        self.day = day\n",
    "        self.value = value\n",
    "\n",
    "    def __str__(self):\n",
    "        return str(self.value)\n",
    "\n",
    "class Person:\n",
    "    def __init__(self, name):\n",
    "        self.name = name\n",
    "\n",
    "    def __str__(self):\n",
    "        return self.name\n",
    "\n",
    "class Patient(Person):\n",
    "    \"\"\"A patient in an inflammation study.\"\"\"\n",
    "    def __init__(self, name):\n",
    "        super().__init__(name)\n",
    "        self.observations = []\n",
    "\n",
    "    def add_observation(self, value, day=None):\n",
    "        if day is None:\n",
    "            try:\n",
    "                day = self.observations[-1].day + 1\n",
    "\n",
    "            except IndexError:\n",
    "                day = 0\n",
    "\n",
    "        new_observation = Observation(day, value)\n",
    "\n",
    "        self.observations.append(new_observation)\n",
    "        return new_observation\n",
    "\n",
    "    def __str__(self):\n",
    "        return self.name\n",
    "\n",
    "class Doctor (Person): \n",
    "    def __init__(self, name):\n",
    "        super().__init__(name)\n",
    "        self.patients = [] \n",
    "    \n",
    "    # add patient\n",
    "    def add_patient(self, patient):\n",
    "        if isinstance(patient, Patient) and patient not in self.patients:\n",
    "            self.patients.append(patient)\n",
    "    \n",
    "    # additional feature: remove patient\n",
    "    def remove_patient(self, patient):\n",
    "        if patient in self.patients:\n",
    "            self.patients.remove(patient)\n",
    "    \n",
    "    def __str__(self):\n",
    "        patient_names = [patient.name for patient in self.patients]\n",
    "        return f\"Dr. {self.name} (caring for {len(self.patients)} patients: {', '.join(patient_names)})\"\n",
    "\n",
    "# testing the whole thing\n",
    "dr_smith = Doctor('Smith')\n",
    "alice = Patient('Alice')\n",
    "bob = Patient('Bob')\n",
    "dr_smith.add_patient(alice)\n",
    "dr_smith.add_patient(bob)\n",
    "print(dr_smith)\n",
    "alice.add_observation(4.3)\n",
    "alice.add_observation(5.2)\n",
    "bob.add_observation(3.8)\n",
    "print(f\"{alice.name}'s first observation: {alice.observations[0]}\")\n",
    "print(f\"{bob.name}'s first observation: {bob.observations[0]}\")\n"
   ]
  },
  {
   "cell_type": "code",
   "execution_count": 20,
   "id": "482f4b28",
   "metadata": {},
   "outputs": [
    {
     "name": "stdout",
     "output_type": "stream",
     "text": [
      "People in trial:\n",
      "- Alice\n",
      "- Smith\n",
      "- D0001\n",
      "- P0001\n",
      "\n",
      "After setting IDs:\n",
      "Alice: P0001\n",
      "Smith: D0002\n",
      "D0001: D0003\n",
      "P0001: P0004\n"
     ]
    }
   ],
   "source": [
    "## trial class\n",
    "class Trial:\n",
    "    def __init__(self):\n",
    "        self.people = []\n",
    "    \n",
    "    def add_person(self, person):\n",
    "        \"\"\"Add a person to the trial. Accepts Person objects or objects with get_id() method.\"\"\"\n",
    "        if isinstance(person, Person):\n",
    "            # add it directly if already person object\n",
    "            self.people.append(person)\n",
    "        elif hasattr(person, 'get_id'):\n",
    "            # if it has get_id() method, use  ID as name and create appropriate object\n",
    "            person_id = person.get_id()\n",
    "            # checking if ID starts with 'D' for Doctor, otherwise create Patient\n",
    "            if person_id.startswith('D'):\n",
    "                new_person = Doctor(person_id)\n",
    "            else:\n",
    "                new_person = Patient(person_id)\n",
    "            \n",
    "            self.people.append(new_person)\n",
    "        else:\n",
    "            raise ValueError(\"Person must be a Person object or have a get_id() method\")\n",
    "    \n",
    "    def print_people(self):\n",
    "        \"\"\"Print the names of all people in the trial.\"\"\"\n",
    "        print(\"People in trial:\")\n",
    "        for person in self.people:\n",
    "            print(f\"- {person.name}\")\n",
    "    \n",
    "    def set_ids(self):\n",
    "        \"\"\"Assign unique IDs to each person in the trial.\"\"\"\n",
    "        for i, person in enumerate(self.people):\n",
    "            if isinstance(person, Doctor):\n",
    "                person.id = f\"D{i+1:04d}\" \n",
    "            elif isinstance(person, Patient):\n",
    "                person.id = f\"P{i+1:04d}\" \n",
    "            else:\n",
    "                person.id = f\"X{i+1:04d}\"  \n",
    "\n",
    "# example\n",
    "trial = Trial()\n",
    "\n",
    "# adding existing Person objects\n",
    "alice = Patient('Alice')\n",
    "dr_smith = Doctor('Smith')\n",
    "trial.add_person(alice)\n",
    "trial.add_person(dr_smith)\n",
    "\n",
    "# mock object w get id for tesitng\n",
    "class MockPerson:\n",
    "    def __init__(self, id_val):\n",
    "        self.id_val = id_val\n",
    "    \n",
    "    def get_id(self):\n",
    "        return self.id_val\n",
    "\n",
    "# adding mock objects\n",
    "mock_doctor = MockPerson('D0001')\n",
    "mock_patient = MockPerson('P0001')\n",
    "trial.add_person(mock_doctor)\n",
    "trial.add_person(mock_patient)\n",
    "\n",
    "# pritning all people and set IDs\n",
    "trial.print_people()\n",
    "trial.set_ids()\n",
    "\n",
    "# showing  assigned IDs\n",
    "print(\"\\nAfter setting IDs:\")\n",
    "for person in trial.people:\n",
    "    print(f\"{person.name}: {getattr(person, 'id', 'No ID')}\")\n"
   ]
  }
 ],
 "metadata": {
  "kernelspec": {
   "display_name": "base",
   "language": "python",
   "name": "python3"
  },
  "language_info": {
   "codemirror_mode": {
    "name": "ipython",
    "version": 3
   },
   "file_extension": ".py",
   "mimetype": "text/x-python",
   "name": "python",
   "nbconvert_exporter": "python",
   "pygments_lexer": "ipython3",
   "version": "3.11.7"
  }
 },
 "nbformat": 4,
 "nbformat_minor": 5
}
