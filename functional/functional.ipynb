{
 "cells": [
  {
   "cell_type": "code",
   "execution_count": null,
   "id": "bd6b0c15",
   "metadata": {},
   "outputs": [],
   "source": [
    "## original code\n",
    "\n",
    "import numpy as np\n",
    "\n",
    "def step(grid):\n",
    "    rows, cols = grid.shape\n",
    "    for i in range(rows):\n",
    "        for j in range(cols):\n",
    "            neighbours = get_neighbours(grid, i, j)\n",
    "            count = sum(neighbours)            \n",
    "            # cells are unaffected unless they:\n",
    "            # - die of under- or overpopulation, or\n",
    "            # - become alive if they have exactly three neighbours\n",
    "            if count < 2 or count > 3:\n",
    "                grid[i, j] = 0\n",
    "            elif count == 3:\n",
    "                grid[i, j] = 1\n",
    "                 \n",
    "def get_neighbours(grid, i, j):\n",
    "    rows, cols = grid.shape\n",
    "    indices = np.array([(i-1, j-1), (i-1, j), (i-1, j+1),\n",
    "                        (i, j-1),             (i, j+1),\n",
    "                        (i+1, j-1), (i+1, j), (i+1, j+1)])\n",
    "    valid_indices = (indices[:, 0] >= 0) & (indices[:, 0] < rows) & \\\n",
    "                    (indices[:, 1] >= 0) & (indices[:, 1] < cols)\n",
    "    return grid[indices[valid_indices][:, 0], indices[valid_indices][:, 1]]\n",
    "\n",
    "# Test\n",
    "grid = np.array([[0, 0, 0, 0, 0],\n",
    "                 [0, 0, 1, 0, 0],\n",
    "                 [0, 1, 1, 1, 0],\n",
    "                 [0, 0, 1, 0, 0],\n",
    "                 [0, 0, 0, 0, 0]], dtype=np.int8)\n",
    "step(grid)\n",
    "print(grid)\n",
    "\n",
    "# our grid should show a square pattern, but doesn't\n",
    "expected_grid = np.array([[0, 0, 0, 0, 0],\n",
    "                          [0, 1, 1, 1, 0],\n",
    "                          [0, 1, 0, 1, 0],\n",
    "                          [0, 1, 1, 1, 0],\n",
    "                          [0, 0, 0, 0, 0]], dtype=np.int8)\n",
    "assert np.array_equal(grid, expected_grid)"
   ]
  },
  {
   "cell_type": "code",
   "execution_count": 5,
   "id": "5f10795d",
   "metadata": {},
   "outputs": [
    {
     "name": "stdout",
     "output_type": "stream",
     "text": [
      "[[0 0 0 0 0]\n",
      " [0 1 1 1 0]\n",
      " [0 1 0 1 0]\n",
      " [0 1 1 1 0]\n",
      " [0 0 0 0 0]]\n"
     ]
    }
   ],
   "source": [
    "## refactored code\n",
    "\n",
    "import numpy as np \n",
    "\n",
    "# define step as a pure function not impure\n",
    "def step(grid):\n",
    "    # create a copy of the grid to avoid in-place modifications\n",
    "    new_grid = grid.copy()\n",
    "\n",
    "    # perform operations on the copy\n",
    "    rows, cols = grid.shape  # Use original grid dimensions\n",
    "    for i in range(rows):\n",
    "        for j in range(cols):\n",
    "            neighbours = get_neighbours(grid, i, j)\n",
    "            count = sum(neighbours)            \n",
    "            # cells are unaffected unless they:\n",
    "            # - die of under- or overpopulation, or\n",
    "            # - become alive if they have exactly three neighbours\n",
    "            if count < 2 or count > 3:\n",
    "                new_grid[i, j] = 0\n",
    "            elif count == 3:\n",
    "                new_grid[i, j] = 1\n",
    "    \n",
    "    # return new grid \n",
    "    return new_grid\n",
    "\n",
    "def get_neighbours(grid, i, j):\n",
    "    rows, cols = grid.shape\n",
    "    indices = np.array([(i-1, j-1), (i-1, j), (i-1, j+1),\n",
    "                        (i, j-1),             (i, j+1),\n",
    "                        (i+1, j-1), (i+1, j), (i+1, j+1)])\n",
    "    valid_indices = (indices[:, 0] >= 0) & (indices[:, 0] < rows) & \\\n",
    "                    (indices[:, 1] >= 0) & (indices[:, 1] < cols)\n",
    "    return grid[indices[valid_indices][:, 0], indices[valid_indices][:, 1]]\n",
    "\n",
    "# Test\n",
    "grid = np.array([[0, 0, 0, 0, 0],\n",
    "                 [0, 0, 1, 0, 0],\n",
    "                 [0, 1, 1, 1, 0],\n",
    "                 [0, 0, 1, 0, 0],\n",
    "                 [0, 0, 0, 0, 0]], dtype=np.int8)\n",
    "\n",
    "# assigning grid to an object\n",
    "grid = step(grid)\n",
    "print(grid)\n",
    "\n",
    "# our grid should show a square pattern, but doesn't\n",
    "expected_grid = np.array([[0, 0, 0, 0, 0],\n",
    "                          [0, 1, 1, 1, 0],\n",
    "                          [0, 1, 0, 1, 0],\n",
    "                          [0, 1, 1, 1, 0],\n",
    "                          [0, 0, 0, 0, 0]], dtype=np.int8)\n",
    "assert np.array_equal(grid, expected_grid)"
   ]
  },
  {
   "cell_type": "code",
   "execution_count": null,
   "id": "6e9d471c",
   "metadata": {},
   "outputs": [],
   "source": [
    "class Node(object):\n",
    "    \"Generic tree node.\"\n",
    "    def __init__(self, name='root', children=None):\n",
    "        self.value = name\n",
    "        self.children = children or []\n",
    "\n",
    "    def __repr__(self):\n",
    "        return f\"Node({self.value}, {self.children})\"\n",
    "\n",
    "t = Node('+', [Node('1'),\n",
    "               Node('*', [Node('2'),\n",
    "                          Node('3')])])\n",
    "\n",
    "# function that traverses tree and returns total number of nodes\n",
    "def count_nodes(tree):\n",
    "    if tree is None:\n",
    "        return 0\n",
    "    count = 1 \n",
    "    for child in tree.children:\n",
    "        count += count_nodes(child) \n",
    "    return count\n",
    "\n",
    "# function that traverses tree and returns result of expression\n",
    "def evaluate(tree):\n",
    "    if tree is None:\n",
    "        return 0\n",
    "    if not tree.children:\n",
    "        return int(tree.value)\n",
    "    if tree.value == '+':\n",
    "        return sum(evaluate(child) for child in tree.children)\n",
    "    elif tree.value == '*':\n",
    "        result = 1\n",
    "        for child in tree.children:\n",
    "            result *= evaluate(child)\n",
    "        return result\n",
    "    else:\n",
    "        raise ValueError(f\"Unknown operator: {tree.value}\")\n",
    "     "
   ]
  },
  {
   "cell_type": "code",
   "execution_count": null,
   "id": "fb2b1837",
   "metadata": {},
   "outputs": [],
   "source": [
    "from functools import reduce\n",
    "\n",
    "def sum_of_squares(numbers):\n",
    "    return reduce(lambda x, y: x + y, map(lambda x: x**2, numbers))\n",
    "\n",
    "print(sum_of_squares([0]))\n",
    "print(sum_of_squares([1]))\n",
    "print(sum_of_squares([1, 2, 3]))\n",
    "print(sum_of_squares([-1]))\n",
    "print(sum_of_squares([-1, -2, -3]))\n",
    "\n"
   ]
  },
  {
   "cell_type": "code",
   "execution_count": 15,
   "id": "3c9aafec",
   "metadata": {},
   "outputs": [
    {
     "name": "stdout",
     "output_type": "stream",
     "text": [
      "14\n",
      "14\n",
      "14\n"
     ]
    }
   ],
   "source": [
    "def sum_of_squares(l):\n",
    "    return reduce(lambda x, y: x + y, map(lambda x: int(x)**2 if '#' not in x else 0, l))\n",
    "\n",
    "print(sum_of_squares(['1', '2', '3']))\n",
    "print(sum_of_squares(['-1', '-2', '-3']))\n",
    "print(sum_of_squares(['1', '2', '#100', '3']))\n"
   ]
  },
  {
   "cell_type": "code",
   "execution_count": 19,
   "id": "2bca0681",
   "metadata": {},
   "outputs": [
    {
     "name": "stdout",
     "output_type": "stream",
     "text": [
      "Time taken: 30085000 nanoseconds\n"
     ]
    },
    {
     "data": {
      "text/plain": [
       "333332833333500000"
      ]
     },
     "execution_count": 19,
     "metadata": {},
     "output_type": "execute_result"
    }
   ],
   "source": [
    "import time\n",
    "\n",
    "def time_it(func):\n",
    "    def wrapper(*args, **kwargs):\n",
    "        start_time = time.process_time_ns()  \n",
    "        result = func(*args, **kwargs)                \n",
    "        end_time = time.process_time_ns()   \n",
    "        elapsed_time = end_time - start_time\n",
    "        print(f\"Time taken: {elapsed_time} nanoseconds\")\n",
    "        return result\n",
    "    return wrapper\n",
    "\n",
    "@time_it\n",
    "def measure_me(n):\n",
    "    total = 0\n",
    "    for i in range(n):\n",
    "        total += i * i\n",
    "    return total\n",
    "\n",
    "measure_me(1000000)"
   ]
  }
 ],
 "metadata": {
  "kernelspec": {
   "display_name": "base",
   "language": "python",
   "name": "python3"
  },
  "language_info": {
   "codemirror_mode": {
    "name": "ipython",
    "version": 3
   },
   "file_extension": ".py",
   "mimetype": "text/x-python",
   "name": "python",
   "nbconvert_exporter": "python",
   "pygments_lexer": "ipython3",
   "version": "3.11.7"
  }
 },
 "nbformat": 4,
 "nbformat_minor": 5
}
